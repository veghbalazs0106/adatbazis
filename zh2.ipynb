{
    "metadata": {
        "kernelspec": {
            "name": "SQL",
            "display_name": "SQL",
            "language": "sql"
        },
        "language_info": {
            "name": "sql",
            "version": ""
        }
    },
    "nbformat_minor": 2,
    "nbformat": 4,
    "cells": [
        {
            "cell_type": "markdown",
            "source": [
                "hgdzhtf"
            ],
            "metadata": {
                "azdata_cell_guid": "49d2af43-8d38-49c8-b472-df26d835be80"
            },
            "attachments": {}
        }
    ]
}