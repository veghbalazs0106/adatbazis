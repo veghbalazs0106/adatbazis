{
    "metadata": {
        "kernelspec": {
            "name": "SQL",
            "display_name": "SQL",
            "language": "sql"
        },
        "language_info": {
            "name": "sql",
            "version": ""
        }
    },
    "nbformat_minor": 2,
    "nbformat": 4,
    "cells": [
        {
            "cell_type": "code",
            "source": [
                "--ELSŐ FELADAT\r\n",
                "\r\n",
                "--Készítsünk listát az egyes szálláshelyek átlagos csillagszámáról típus, illetve hely szerint csoportosítva (külön-külön)!\r\n",
                "\r\n",
                "--Az átlag 2 tizedesre kerekítve jelenjen meg\r\n",
                "--Hagyjuk ki azokat a szálláshelyeket, amelyek nevében kötőjel (-) van!\r\n",
                "\r\n",
                "SELECT SZALLAS_NEV,\r\n",
                "        ROUND(AVG(CSILLAGOK_SZAMA) OVER(PARTITION BY TIPUS), 2) AS 'Csillagok átlagos száma típus szerint',\r\n",
                "        ROUND(AVG(CSILLAGOK_SZAMA) OVER(PARTITION BY HELY), 2) AS 'Csillagok átlagos száma hely szerint'\r\n",
                "FROM Szallashely\r\n",
                "WHERE SZALLAS_NEV NOT LIKE '%-%'\r\n",
                ""
            ],
            "metadata": {
                "azdata_cell_guid": "bcb340a9-2d04-42c8-a8d4-41bf5038a7cf",
                "language": "sql"
            },
            "outputs": [
                {
                    "output_type": "display_data",
                    "data": {
                        "text/html": "(20 rows affected)"
                    },
                    "metadata": {}
                },
                {
                    "output_type": "display_data",
                    "data": {
                        "text/html": "Total execution time: 00:00:00.014"
                    },
                    "metadata": {}
                },
                {
                    "output_type": "execute_result",
                    "metadata": {},
                    "execution_count": 4,
                    "data": {
                        "application/vnd.dataresource+json": {
                            "schema": {
                                "fields": [
                                    {
                                        "name": "SZALLAS_NEV"
                                    },
                                    {
                                        "name": "Csillagok átlagos száma típus szerint"
                                    },
                                    {
                                        "name": "Csillagok átlagos száma hely szerint"
                                    }
                                ]
                            },
                            "data": [
                                {
                                    "SZALLAS_NEV": "Szieszta Apartmanház",
                                    "Csillagok átlagos száma típus szerint": "0",
                                    "Csillagok átlagos száma hely szerint": "2"
                                },
                                {
                                    "SZALLAS_NEV": "Hotel Három Hattyú",
                                    "Csillagok átlagos száma típus szerint": "3",
                                    "Csillagok átlagos száma hely szerint": "2"
                                },
                                {
                                    "SZALLAS_NEV": "Kentaur Hotel",
                                    "Csillagok átlagos száma típus szerint": "3",
                                    "Csillagok átlagos száma hely szerint": "2"
                                },
                                {
                                    "SZALLAS_NEV": "Tímárház Panzió",
                                    "Csillagok átlagos száma típus szerint": "3",
                                    "Csillagok átlagos száma hely szerint": "2"
                                },
                                {
                                    "SZALLAS_NEV": "Jáde panzió",
                                    "Csillagok átlagos száma típus szerint": "3",
                                    "Csillagok átlagos száma hely szerint": "2"
                                },
                                {
                                    "SZALLAS_NEV": "Családi Ház",
                                    "Csillagok átlagos száma típus szerint": "0",
                                    "Csillagok átlagos száma hely szerint": "2"
                                },
                                {
                                    "SZALLAS_NEV": "Partiszél Vendégház",
                                    "Csillagok átlagos száma típus szerint": "0",
                                    "Csillagok átlagos száma hely szerint": "0"
                                },
                                {
                                    "SZALLAS_NEV": "Fortuna Panzió",
                                    "Csillagok átlagos száma típus szerint": "3",
                                    "Csillagok átlagos száma hely szerint": "3"
                                },
                                {
                                    "SZALLAS_NEV": "Fortuna panzió",
                                    "Csillagok átlagos száma típus szerint": "3",
                                    "Csillagok átlagos száma hely szerint": "2"
                                },
                                {
                                    "SZALLAS_NEV": "Lagúna Hotel",
                                    "Csillagok átlagos száma típus szerint": "3",
                                    "Csillagok átlagos száma hely szerint": "2"
                                },
                                {
                                    "SZALLAS_NEV": "Kollégium",
                                    "Csillagok átlagos száma típus szerint": "0",
                                    "Csillagok átlagos száma hely szerint": "2"
                                },
                                {
                                    "SZALLAS_NEV": "Gold Hotel",
                                    "Csillagok átlagos száma típus szerint": "3",
                                    "Csillagok átlagos száma hely szerint": "2"
                                },
                                {
                                    "SZALLAS_NEV": "Nyárfás Vendégház",
                                    "Csillagok átlagos száma típus szerint": "0",
                                    "Csillagok átlagos száma hely szerint": "1"
                                },
                                {
                                    "SZALLAS_NEV": "Riviéra Panzió",
                                    "Csillagok átlagos száma típus szerint": "3",
                                    "Csillagok átlagos száma hely szerint": "1"
                                },
                                {
                                    "SZALLAS_NEV": "Müller Vendégház",
                                    "Csillagok átlagos száma típus szerint": "0",
                                    "Csillagok átlagos száma hely szerint": "0"
                                },
                                {
                                    "SZALLAS_NEV": "Nyárfás Vendégház",
                                    "Csillagok átlagos száma típus szerint": "0",
                                    "Csillagok átlagos száma hely szerint": "0"
                                },
                                {
                                    "SZALLAS_NEV": "Fortuna Apartman",
                                    "Csillagok átlagos száma típus szerint": "0",
                                    "Csillagok átlagos száma hely szerint": "0"
                                },
                                {
                                    "SZALLAS_NEV": "Fortuna Apartman",
                                    "Csillagok átlagos száma típus szerint": "0",
                                    "Csillagok átlagos száma hely szerint": "0"
                                },
                                {
                                    "SZALLAS_NEV": "Bagoly Hotel",
                                    "Csillagok átlagos száma típus szerint": "3",
                                    "Csillagok átlagos száma hely szerint": "3"
                                },
                                {
                                    "SZALLAS_NEV": "Szarvas Hotel",
                                    "Csillagok átlagos száma típus szerint": "3",
                                    "Csillagok átlagos száma hely szerint": "4"
                                }
                            ]
                        },
                        "text/html": [
                            "<table>",
                            "<tr><th>SZALLAS_NEV</th><th>Csillagok átlagos száma típus szerint</th><th>Csillagok átlagos száma hely szerint</th></tr>",
                            "<tr><td>Szieszta Apartmanház</td><td>0</td><td>2</td></tr>",
                            "<tr><td>Hotel Három Hattyú</td><td>3</td><td>2</td></tr>",
                            "<tr><td>Kentaur Hotel</td><td>3</td><td>2</td></tr>",
                            "<tr><td>Tímárház Panzió</td><td>3</td><td>2</td></tr>",
                            "<tr><td>Jáde panzió</td><td>3</td><td>2</td></tr>",
                            "<tr><td>Családi Ház</td><td>0</td><td>2</td></tr>",
                            "<tr><td>Partiszél Vendégház</td><td>0</td><td>0</td></tr>",
                            "<tr><td>Fortuna Panzió</td><td>3</td><td>3</td></tr>",
                            "<tr><td>Fortuna panzió</td><td>3</td><td>2</td></tr>",
                            "<tr><td>Lagúna Hotel</td><td>3</td><td>2</td></tr>",
                            "<tr><td>Kollégium</td><td>0</td><td>2</td></tr>",
                            "<tr><td>Gold Hotel</td><td>3</td><td>2</td></tr>",
                            "<tr><td>Nyárfás Vendégház</td><td>0</td><td>1</td></tr>",
                            "<tr><td>Riviéra Panzió</td><td>3</td><td>1</td></tr>",
                            "<tr><td>Müller Vendégház</td><td>0</td><td>0</td></tr>",
                            "<tr><td>Nyárfás Vendégház</td><td>0</td><td>0</td></tr>",
                            "<tr><td>Fortuna Apartman</td><td>0</td><td>0</td></tr>",
                            "<tr><td>Fortuna Apartman</td><td>0</td><td>0</td></tr>",
                            "<tr><td>Bagoly Hotel</td><td>3</td><td>3</td></tr>",
                            "<tr><td>Szarvas Hotel</td><td>3</td><td>4</td></tr>",
                            "</table>"
                        ]
                    }
                }
            ],
            "execution_count": 4
        },
        {
            "cell_type": "code",
            "source": [
                "--MÁSODIK FELADAT"
            ],
            "metadata": {
                "azdata_cell_guid": "f4492f54-316f-4bb6-b454-34a71bb0a97d",
                "language": "sql"
            },
            "outputs": [],
            "execution_count": null
        },
        {
            "cell_type": "code",
            "source": [
                "--HARMADIK FELADAT"
            ],
            "metadata": {
                "azdata_cell_guid": "9e2f1530-62b4-498c-8d5a-321cdb2cc41a",
                "language": "sql"
            },
            "outputs": [],
            "execution_count": null
        }
    ]
}