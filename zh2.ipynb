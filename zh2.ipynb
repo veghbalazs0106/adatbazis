{
    "metadata": {
        "kernelspec": {
            "name": "SQL",
            "display_name": "SQL",
            "language": "sql"
        },
        "language_info": {
            "name": "sql",
            "version": ""
        }
    },
    "nbformat_minor": 2,
    "nbformat": 4,
    "cells": [
        {
            "cell_type": "code",
            "source": [
                "--ELSŐ FELADAT"
            ],
            "metadata": {
                "azdata_cell_guid": "bcb340a9-2d04-42c8-a8d4-41bf5038a7cf",
                "language": "sql"
            },
            "outputs": [],
            "execution_count": null
        },
        {
            "cell_type": "code",
            "source": [
                "--MÁSODIK FELADAT"
            ],
            "metadata": {
                "azdata_cell_guid": "f4492f54-316f-4bb6-b454-34a71bb0a97d",
                "language": "sql"
            },
            "outputs": [],
            "execution_count": null
        },
        {
            "cell_type": "code",
            "source": [
                "--HARMADIK FELADAT"
            ],
            "metadata": {
                "azdata_cell_guid": "9e2f1530-62b4-498c-8d5a-321cdb2cc41a",
                "language": "sql"
            },
            "outputs": [],
            "execution_count": null
        }
    ]
}